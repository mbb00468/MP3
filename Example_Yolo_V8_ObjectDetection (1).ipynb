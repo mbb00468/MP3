{
 "cells": [
  {
   "cell_type": "markdown",
   "id": "8b2b4716-8a1f-4f8b-910a-fe48a54a1979",
   "metadata": {},
   "source": [
    "#### Yolo for object detection in images ####\n",
    "\n",
    "_pip install ultralytics_"
   ]
  },
  {
   "cell_type": "code",
   "execution_count": null,
   "id": "633f320e-36c6-45bf-9f58-b08671ef7c87",
   "metadata": {
    "jupyter": {
     "source_hidden": true
    },
    "tags": []
   },
   "outputs": [],
   "source": [
    "from ultralytics import YOLO\n",
    "from PIL import Image\n",
    "\n",
    "import warnings\n",
    "warnings.filterwarnings('ignore')"
   ]
  },
  {
   "cell_type": "code",
   "execution_count": null,
   "id": "dfa5e3df-c970-4e32-ad8d-b1554220c60a",
   "metadata": {
    "jupyter": {
     "source_hidden": true
    },
    "tags": []
   },
   "outputs": [],
   "source": [
    "# Load a pretrained YOLOv8n model\n",
    "model = YOLO('yolov8n.pt')\n",
    "\n",
    "# Run inference on 'bus.jpg'\n",
    "results = model('bus.jpg',verbose=False)  # results list"
   ]
  },
  {
   "cell_type": "code",
   "execution_count": null,
   "id": "a7721c0b",
   "metadata": {
    "jupyter": {
     "source_hidden": true
    },
    "tags": []
   },
   "outputs": [],
   "source": [
    "# Save results as image\n",
    "model = YOLO('yolov8n.pt')\n",
    "\n",
    "# Run inference on 'bus.jpg'\n",
    "results = model('bus.jpg',verbose=False)  # results list\n",
    "\n",
    "for r in results:\n",
    "    im_array = r.plot()  # plot a BGR numpy array of predictions\n",
    "    im = Image.fromarray(im_array[..., ::-1])  # RGB PIL image\n",
    "    #im.show()  # show image\n",
    "    im.save('results.png')  # save image\n",
    "    predclass = []\n",
    "for result in results:                                         # iterate results\n",
    "    boxes = result.boxes.cpu().numpy()                         # get boxes on cpu in numpy\n",
    "    for box in boxes:                                          # iterate boxes\n",
    "        predclass.append(result.names[int(box.cls[0])])      # Get predicted classes\n",
    "print(predclass)"
   ]
  },
  {
   "cell_type": "code",
   "execution_count": null,
   "id": "4baf5e6f",
   "metadata": {
    "jupyter": {
     "source_hidden": true
    },
    "tags": []
   },
   "outputs": [],
   "source": [
    "# Get predicted classes\n",
    "predclass = []\n",
    "for result in results:                                         # iterate results\n",
    "    boxes = result.boxes.cpu().numpy()                         # get boxes on cpu in numpy\n",
    "    for box in boxes:                                          # iterate boxes\n",
    "        predclass.append(result.names[int(box.cls[0])])      # Get predicted classes\n",
    "print(predclass)"
   ]
  },
  {
   "cell_type": "code",
   "execution_count": null,
   "id": "d0e22c91",
   "metadata": {},
   "outputs": [],
   "source": []
  }
 ],
 "metadata": {
  "kernelspec": {
   "display_name": "ml",
   "language": "python",
   "name": "ml"
  },
  "language_info": {
   "codemirror_mode": {
    "name": "ipython",
    "version": 3
   },
   "file_extension": ".py",
   "mimetype": "text/x-python",
   "name": "python",
   "nbconvert_exporter": "python",
   "pygments_lexer": "ipython3",
   "version": "3.10.13"
  }
 },
 "nbformat": 4,
 "nbformat_minor": 5
}
