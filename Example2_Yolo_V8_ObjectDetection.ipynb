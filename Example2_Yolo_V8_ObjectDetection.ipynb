{
 "cells": [
  {
   "cell_type": "markdown",
   "id": "8b2b4716-8a1f-4f8b-910a-fe48a54a1979",
   "metadata": {},
   "source": [
    "#### Yolo for object detection in images ####\n",
    "\n",
    "_pip install ultralytics_"
   ]
  },
  {
   "cell_type": "code",
   "execution_count": 1,
   "id": "633f320e-36c6-45bf-9f58-b08671ef7c87",
   "metadata": {
    "tags": []
   },
   "outputs": [],
   "source": [
    "from ultralytics import YOLO\n",
    "from PIL import Image\n"
   ]
  },
  {
   "cell_type": "code",
   "execution_count": 3,
   "id": "dfa5e3df-c970-4e32-ad8d-b1554220c60a",
   "metadata": {
    "tags": []
   },
   "outputs": [
    {
     "name": "stderr",
     "output_type": "stream",
     "text": [
      "\n",
      "image 1/1 C:\\Users\\Matth\\Documents\\GitHub\\MP3\\uploads\\car1.jpg: 384x640 1 car, 117.7ms\n",
      "Speed: 113.3ms preprocess, 117.7ms inference, 289.6ms postprocess per image at shape (1, 3, 640, 640)\n"
     ]
    }
   ],
   "source": [
    "\n",
    "\n",
    "# Load a pretrained YOLOv8n model\n",
    "model = YOLO('yolov8n.pt')\n",
    "\n",
    "# Run inference on 'bus.jpg'\n",
    "results = model('uploads\\car1.jpg')  # results list\n",
    "\n",
    "# Show the results\n",
    "for r in results:\n",
    "    im_array = r.plot()  # plot a BGR numpy array of predictions\n",
    "    im = Image.fromarray(im_array[..., ::-1])  # RGB PIL image\n",
    "    im.show()  # show image\n",
    "    im.save('results.jpg')  # save image"
   ]
  },
  {
   "cell_type": "code",
   "execution_count": null,
   "id": "7f29b4e6-0c9a-47ad-9b2c-4168e13702cd",
   "metadata": {},
   "outputs": [],
   "source": []
  }
 ],
 "metadata": {
  "kernelspec": {
   "display_name": "Python 3",
   "language": "python",
   "name": "python3"
  },
  "language_info": {
   "codemirror_mode": {
    "name": "ipython",
    "version": 3
   },
   "file_extension": ".py",
   "mimetype": "text/x-python",
   "name": "python",
   "nbconvert_exporter": "python",
   "pygments_lexer": "ipython3",
   "version": "3.11.3"
  }
 },
 "nbformat": 4,
 "nbformat_minor": 5
}
